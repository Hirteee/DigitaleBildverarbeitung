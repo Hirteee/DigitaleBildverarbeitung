{
  "nbformat": 4,
  "nbformat_minor": 0,
  "metadata": {
    "colab": {
      "provenance": [],
      "gpuType": "T4",
      "toc_visible": true
    },
    "kernelspec": {
      "name": "python3",
      "display_name": "Python 3"
    },
    "language_info": {
      "name": "python"
    }
  },
  "cells": [
    {
      "cell_type": "markdown",
      "source": [
        "#Digitale Bilverarbeitung\n",
        "\n",
        "Bibliotheken importieren"
      ],
      "metadata": {
        "id": "jUg6IjsW9vSH"
      }
    },
    {
      "cell_type": "code",
      "source": [
        "import tensorflow as tf\n",
        "from tensorflow.keras.datasets import mnist\n",
        "from tensorflow.keras.utils import to_categorical\n",
        "from tensorflow.keras import layers, models\n",
        "from tensorflow.keras.optimizers import Adam\n",
        "from tensorflow.keras.preprocessing.image import ImageDataGenerator\n",
        "import matplotlib.pyplot as plt\n",
        "\n"
      ],
      "metadata": {
        "id": "D5HUbzwvISSB"
      },
      "execution_count": 1,
      "outputs": []
    },
    {
      "cell_type": "markdown",
      "source": [
        "Daten laden und vorverarbeiten, Data Augmentation"
      ],
      "metadata": {
        "id": "SJaoToic93HP"
      }
    },
    {
      "cell_type": "code",
      "source": [
        "(train_images, train_labels), (test_images, test_labels) = mnist.load_data()\n",
        "train_images = train_images.reshape((60000, 28, 28, 1)).astype('float32') / 255\n",
        "test_images = test_images.reshape((10000, 28, 28, 1)).astype('float32') / 255\n",
        "\n",
        "train_labels = to_categorical(train_labels)\n",
        "test_labels = to_categorical(test_labels)\n",
        "\n",
        "\n",
        "train_datagen = ImageDataGenerator(\n",
        "    rotation_range=15,\n",
        "    zoom_range=0.15,\n",
        "    shear_range=0.1,\n",
        "    width_shift_range=0.1,\n",
        "    height_shift_range=0.1,\n",
        "    rescale=1./255,\n",
        "    fill_mode='nearest',\n",
        "    horizontal_flip=False,\n",
        "    vertical_flip=False\n",
        ")\n",
        "\n",
        "train_datagen.fit(train_images)"
      ],
      "metadata": {
        "id": "09VA5AOIN2C1",
        "colab": {
          "base_uri": "https://localhost:8080/"
        },
        "outputId": "7181fef4-bc43-4afc-d08f-f1ef54526620"
      },
      "execution_count": 2,
      "outputs": [
        {
          "output_type": "stream",
          "name": "stdout",
          "text": [
            "Downloading data from https://storage.googleapis.com/tensorflow/tf-keras-datasets/mnist.npz\n",
            "11490434/11490434 [==============================] - 0s 0us/step\n"
          ]
        }
      ]
    },
    {
      "cell_type": "markdown",
      "source": [
        "Convolutional Neural Network erstellen"
      ],
      "metadata": {
        "id": "ZSVVwfog9_9V"
      }
    },
    {
      "cell_type": "code",
      "source": [
        "model = models.Sequential()\n",
        "model.add(layers.Conv2D(32, (3, 3), activation='relu', input_shape=(28, 28, 1)))\n",
        "model.add(layers.MaxPooling2D((2, 2)))\n",
        "model.add(layers.Conv2D(64, (3, 3), activation='relu'))\n",
        "model.add(layers.MaxPooling2D((2, 2)))\n",
        "model.add(layers.Conv2D(64, (3, 3), activation='relu'))\n",
        "model.add(layers.Flatten())\n",
        "model.add(layers.Dense(128, activation='relu'))\n",
        "model.add(layers.Dropout(0.5))\n",
        "model.add(layers.Dense(10, activation='softmax'))\n",
        "\n",
        "model.summary()\n"
      ],
      "metadata": {
        "id": "dW_fB1avsIz5",
        "outputId": "3b98a952-ae36-4031-e5ea-325c3954fad0",
        "colab": {
          "base_uri": "https://localhost:8080/"
        }
      },
      "execution_count": 3,
      "outputs": [
        {
          "output_type": "stream",
          "name": "stdout",
          "text": [
            "Model: \"sequential\"\n",
            "_________________________________________________________________\n",
            " Layer (type)                Output Shape              Param #   \n",
            "=================================================================\n",
            " conv2d (Conv2D)             (None, 26, 26, 32)        320       \n",
            "                                                                 \n",
            " max_pooling2d (MaxPooling2  (None, 13, 13, 32)        0         \n",
            " D)                                                              \n",
            "                                                                 \n",
            " conv2d_1 (Conv2D)           (None, 11, 11, 64)        18496     \n",
            "                                                                 \n",
            " max_pooling2d_1 (MaxPoolin  (None, 5, 5, 64)          0         \n",
            " g2D)                                                            \n",
            "                                                                 \n",
            " conv2d_2 (Conv2D)           (None, 3, 3, 64)          36928     \n",
            "                                                                 \n",
            " flatten (Flatten)           (None, 576)               0         \n",
            "                                                                 \n",
            " dense (Dense)               (None, 128)               73856     \n",
            "                                                                 \n",
            " dropout (Dropout)           (None, 128)               0         \n",
            "                                                                 \n",
            " dense_1 (Dense)             (None, 10)                1290      \n",
            "                                                                 \n",
            "=================================================================\n",
            "Total params: 130890 (511.29 KB)\n",
            "Trainable params: 130890 (511.29 KB)\n",
            "Non-trainable params: 0 (0.00 Byte)\n",
            "_________________________________________________________________\n"
          ]
        }
      ]
    },
    {
      "cell_type": "markdown",
      "source": [
        "Modell kompilieren"
      ],
      "metadata": {
        "id": "IOGpkE6I-MOg"
      }
    },
    {
      "cell_type": "code",
      "source": [
        "model.compile(optimizer=Adam(lr=0.001),\n",
        "              loss='categorical_crossentropy',\n",
        "              metrics=['accuracy'])"
      ],
      "metadata": {
        "colab": {
          "base_uri": "https://localhost:8080/"
        },
        "id": "Y2D9GijKNzT3",
        "outputId": "055edb8a-3c2d-42fa-c28b-4cb6df6b809d"
      },
      "execution_count": 4,
      "outputs": [
        {
          "output_type": "stream",
          "name": "stderr",
          "text": [
            "WARNING:absl:`lr` is deprecated in Keras optimizer, please use `learning_rate` or use the legacy optimizer, e.g.,tf.keras.optimizers.legacy.Adam.\n"
          ]
        }
      ]
    },
    {
      "cell_type": "markdown",
      "source": [
        "Modell trainieren"
      ],
      "metadata": {
        "id": "imcf9Ck0-P0F"
      }
    },
    {
      "cell_type": "code",
      "source": [
        "history = model.fit(train_images, train_labels, epochs=10, batch_size=64, validation_split=0.2)"
      ],
      "metadata": {
        "colab": {
          "base_uri": "https://localhost:8080/"
        },
        "id": "Z4TmXY1gNxJi",
        "outputId": "e106a37a-5037-4076-8109-b0ff61425a71"
      },
      "execution_count": 5,
      "outputs": [
        {
          "output_type": "stream",
          "name": "stdout",
          "text": [
            "Epoch 1/10\n",
            "750/750 [==============================] - 44s 55ms/step - loss: 0.2741 - accuracy: 0.9162 - val_loss: 0.0581 - val_accuracy: 0.9826\n",
            "Epoch 2/10\n",
            "750/750 [==============================] - 40s 53ms/step - loss: 0.0814 - accuracy: 0.9764 - val_loss: 0.0500 - val_accuracy: 0.9851\n",
            "Epoch 3/10\n",
            "750/750 [==============================] - 41s 54ms/step - loss: 0.0553 - accuracy: 0.9842 - val_loss: 0.0434 - val_accuracy: 0.9868\n",
            "Epoch 4/10\n",
            "750/750 [==============================] - 41s 54ms/step - loss: 0.0440 - accuracy: 0.9869 - val_loss: 0.0348 - val_accuracy: 0.9885\n",
            "Epoch 5/10\n",
            "750/750 [==============================] - 38s 50ms/step - loss: 0.0390 - accuracy: 0.9884 - val_loss: 0.0380 - val_accuracy: 0.9877\n",
            "Epoch 6/10\n",
            "750/750 [==============================] - 38s 50ms/step - loss: 0.0316 - accuracy: 0.9905 - val_loss: 0.0307 - val_accuracy: 0.9915\n",
            "Epoch 7/10\n",
            "750/750 [==============================] - 39s 52ms/step - loss: 0.0270 - accuracy: 0.9917 - val_loss: 0.0396 - val_accuracy: 0.9877\n",
            "Epoch 8/10\n",
            "750/750 [==============================] - 39s 52ms/step - loss: 0.0215 - accuracy: 0.9937 - val_loss: 0.0358 - val_accuracy: 0.9894\n",
            "Epoch 9/10\n",
            "750/750 [==============================] - 41s 54ms/step - loss: 0.0209 - accuracy: 0.9934 - val_loss: 0.0358 - val_accuracy: 0.9903\n",
            "Epoch 10/10\n",
            "750/750 [==============================] - 38s 51ms/step - loss: 0.0168 - accuracy: 0.9945 - val_loss: 0.0349 - val_accuracy: 0.9920\n"
          ]
        }
      ]
    },
    {
      "cell_type": "markdown",
      "source": [
        "Modell evaluieren"
      ],
      "metadata": {
        "id": "97MCiJIU-SpM"
      }
    },
    {
      "cell_type": "code",
      "source": [
        "test_loss, test_acc = model.evaluate(test_images, test_labels)\n",
        "print('Test Loss:', test_loss)\n",
        "print('Test Accuracy:', test_acc)"
      ],
      "metadata": {
        "id": "lDYdmr2CNvPM",
        "outputId": "597fe3ee-cb74-4682-e982-8de4c65aad06",
        "colab": {
          "base_uri": "https://localhost:8080/"
        }
      },
      "execution_count": 6,
      "outputs": [
        {
          "output_type": "stream",
          "name": "stdout",
          "text": [
            "313/313 [==============================] - 3s 11ms/step - loss: 0.0273 - accuracy: 0.9932\n",
            "Test Loss: 0.027301596477627754\n",
            "Test Accuracy: 0.9932000041007996\n"
          ]
        }
      ]
    },
    {
      "cell_type": "markdown",
      "source": [
        "Erstellung einer Confusion Matrix"
      ],
      "metadata": {
        "id": "UfWDXTGk-cLL"
      }
    },
    {
      "cell_type": "code",
      "source": [
        "from sklearn.metrics import confusion_matrix\n",
        "import seaborn as sns\n",
        "import matplotlib.pyplot as plt\n",
        "import numpy as np\n",
        "\n",
        "\n",
        "predictions = model.predict(test_images)\n",
        "predicted_labels = np.argmax(predictions, axis=1)\n",
        "true_labels = np.argmax(test_labels, axis=1)\n",
        "\n",
        "conf_matrix = confusion_matrix(true_labels, predicted_labels)\n",
        "\n",
        "\n",
        "plt.figure(figsize=(8, 6))\n",
        "sns.heatmap(conf_matrix, annot=True, fmt='g', cmap='Blues', xticklabels=range(10), yticklabels=range(10))\n",
        "plt.xlabel('Predicted Labels')\n",
        "plt.ylabel('True Labels')\n",
        "plt.title('Confusion Matrix')\n",
        "plt.show()\n"
      ],
      "metadata": {
        "id": "IYqoCoMHsTsX",
        "outputId": "fd711bf7-a86e-459f-d653-f03f8b2ff660",
        "colab": {
          "base_uri": "https://localhost:8080/",
          "height": 581
        }
      },
      "execution_count": 7,
      "outputs": [
        {
          "output_type": "stream",
          "name": "stdout",
          "text": [
            "313/313 [==============================] - 2s 7ms/step\n"
          ]
        },
        {
          "output_type": "display_data",
          "data": {
            "text/plain": [
              "<Figure size 800x600 with 2 Axes>"
            ],
            "image/png": "[encoded data removed]"
          },
          "metadata": {}
        }
      ]
    }
  ]
}